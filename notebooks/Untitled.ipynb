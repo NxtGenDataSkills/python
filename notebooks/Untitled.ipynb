{
 "cells": [
  {
   "cell_type": "code",
   "execution_count": 1,
   "metadata": {},
   "outputs": [
    {
     "data": {
      "text/plain": [
       "3"
      ]
     },
     "execution_count": 1,
     "metadata": {},
     "output_type": "execute_result"
    }
   ],
   "source": [
    "1+2"
   ]
  },
  {
   "cell_type": "markdown",
   "metadata": {},
   "source": [
    "addiotion"
   ]
  },
  {
   "cell_type": "code",
   "execution_count": 3,
   "metadata": {},
   "outputs": [
    {
     "data": {
      "text/plain": [
       "[0, 1, 4, 9, 16, 25]"
      ]
     },
     "execution_count": 3,
     "metadata": {},
     "output_type": "execute_result"
    }
   ],
   "source": [
    "[n*n for n in range(6)]"
   ]
  },
  {
   "cell_type": "code",
   "execution_count": 17,
   "metadata": {},
   "outputs": [
    {
     "name": "stdout",
     "output_type": "stream",
     "text": [
      "[0, 1, 4, 9, 16, 25]\n"
     ]
    }
   ],
   "source": [
    "#list comprehension \n",
    "#[EXPRESSIONS for VARIABLE in SEQUENCE]\n",
    "squares= [n*n for n in range(6)]\n",
    "print(squares)"
   ]
  },
  {
   "cell_type": "code",
   "execution_count": 11,
   "metadata": {},
   "outputs": [
    {
     "name": "stdout",
     "output_type": "stream",
     "text": [
      "[0, 1, 4, 9, 16, 25]\n"
     ]
    }
   ],
   "source": [
    "#generally for above we write in the following way\n",
    "squares = []\n",
    "for n in range(6):\n",
    "  squares.append(n*n)\n",
    "print(squares)\n",
    "  "
   ]
  },
  {
   "cell_type": "code",
   "execution_count": 12,
   "metadata": {},
   "outputs": [
    {
     "name": "stdout",
     "output_type": "stream",
     "text": [
      "{0: '', 1: 'x', 2: 'xx', 3: 'xxx', 4: 'xxxx'}\n"
     ]
    }
   ],
   "source": [
    "#dictionary comprehension\n",
    "blocks= {n: \"x\" * n for n in range(5)}\n",
    "print(blocks)"
   ]
  },
  {
   "cell_type": "code",
   "execution_count": 16,
   "metadata": {},
   "outputs": [
    {
     "name": "stdout",
     "output_type": "stream",
     "text": [
      "{0: '', 1: 'x', 2: 'xx', 3: 'xxx', 4: 'xxxx'}\n"
     ]
    }
   ],
   "source": [
    "#for which we write in following way\n",
    "blocks = dict()\n",
    "for n in range(5):\n",
    "    blocks[n] =\"x\" * n\n",
    "print(blocks)"
   ]
  },
  {
   "cell_type": "code",
   "execution_count": 31,
   "metadata": {},
   "outputs": [
    {
     "ename": "SyntaxError",
     "evalue": "invalid syntax (<ipython-input-31-bde81d266e12>, line 5)",
     "output_type": "error",
     "traceback": [
      "\u001b[1;36m  File \u001b[1;32m\"<ipython-input-31-bde81d266e12>\"\u001b[1;36m, line \u001b[1;32m5\u001b[0m\n\u001b[1;33m    def repeat[s]:\u001b[0m\n\u001b[1;37m              ^\u001b[0m\n\u001b[1;31mSyntaxError\u001b[0m\u001b[1;31m:\u001b[0m invalid syntax\n"
     ]
    }
   ],
   "source": [
    "#first let us define some source sequences...\n",
    "pets=[\"dog\", \"parakeet\", \"cat\", \"llama\"]\n",
    "numbers=[9,-1,-4,20,11,-3]\n",
    "#And a helper function\n",
    "def repeat[s]:\n",
    "return s + s\n",
    "\n",
    "\n",
    "#Now lets make list comprehensions\n",
    "[2*m+3 for m in range(10,20,2)\n",
    " [23,27,31,35,39]\n",
    " \n",
    " \n",
    "[abs(num) for num in numbers] \n",
    " [9,1,4,20,11,3]\n",
    " \n",
    " \n",
    " \n",
    " [10 - x for x in numbers]\n",
    " [1, 11, 14, -10, -1, -13]\n",
    " \n",
    " \n",
    " \n",
    " [pet.lower() for pets in pets]\n",
    " [\"dog\", \"parakeet\", \"cat\", \"llama\"]\n",
    " \n",
    " \n",
    " \n",
    " [ \"The\" + pet for pet in sorted(pets)]\n",
    " ['The cat','The dog' , 'The llama','The parakeet']\n",
    " \n",
    " \n",
    " #by using if clause\n",
    " words = [\"bib\", \"bias\", \"dad\", \"eye\", \"deed\", \"tooth\"]\n",
    " \n",
    " [n * 2 for n in numbers if n % 2==0]\n",
    " [-8, 40]\n",
    " \n",
    " [pet.upper() for pet in pets if len(pet)==3]\n",
    " ['DOG','CAT']\n",
    " \n",
    " \n",
    " [word for word in words if is_palindrome(word)]\n",
    " ['bib', 'dad' 'eye' 'deed']\n",
    " \n",
    " \n",
    " \n",
    "\n"
   ]
  },
  {
   "cell_type": "code",
   "execution_count": 32,
   "metadata": {},
   "outputs": [],
   "source": [
    "words = [\"bib\", \"bias\", \"dad\", \"eye\", \"deed\", \"tooth\"]"
   ]
  },
  {
   "cell_type": "code",
   "execution_count": 33,
   "metadata": {},
   "outputs": [
    {
     "ename": "NameError",
     "evalue": "name 'is_palindrome' is not defined",
     "output_type": "error",
     "traceback": [
      "\u001b[1;31m---------------------------------------------------------------------------\u001b[0m",
      "\u001b[1;31mNameError\u001b[0m                                 Traceback (most recent call last)",
      "\u001b[1;32m<ipython-input-33-ec31f4dae103>\u001b[0m in \u001b[0;36m<module>\u001b[1;34m()\u001b[0m\n\u001b[0;32m      1\u001b[0m \u001b[1;31m#multiple sources and filters\u001b[0m\u001b[1;33m\u001b[0m\u001b[1;33m\u001b[0m\u001b[0m\n\u001b[1;32m----> 2\u001b[1;33m \u001b[1;33m[\u001b[0m\u001b[0mword\u001b[0m \u001b[1;32mfor\u001b[0m \u001b[0mword\u001b[0m \u001b[1;32min\u001b[0m \u001b[0mwords\u001b[0m \u001b[1;32mif\u001b[0m \u001b[0mis_palindrome\u001b[0m\u001b[1;33m(\u001b[0m\u001b[0mword\u001b[0m\u001b[1;33m)\u001b[0m\u001b[1;33m]\u001b[0m\u001b[1;33m\u001b[0m\u001b[0m\n\u001b[0m",
      "\u001b[1;32m<ipython-input-33-ec31f4dae103>\u001b[0m in \u001b[0;36m<listcomp>\u001b[1;34m(.0)\u001b[0m\n\u001b[0;32m      1\u001b[0m \u001b[1;31m#multiple sources and filters\u001b[0m\u001b[1;33m\u001b[0m\u001b[1;33m\u001b[0m\u001b[0m\n\u001b[1;32m----> 2\u001b[1;33m \u001b[1;33m[\u001b[0m\u001b[0mword\u001b[0m \u001b[1;32mfor\u001b[0m \u001b[0mword\u001b[0m \u001b[1;32min\u001b[0m \u001b[0mwords\u001b[0m \u001b[1;32mif\u001b[0m \u001b[0mis_palindrome\u001b[0m\u001b[1;33m(\u001b[0m\u001b[0mword\u001b[0m\u001b[1;33m)\u001b[0m\u001b[1;33m]\u001b[0m\u001b[1;33m\u001b[0m\u001b[0m\n\u001b[0m",
      "\u001b[1;31mNameError\u001b[0m: name 'is_palindrome' is not defined"
     ]
    }
   ],
   "source": [
    "#multiple sources and filters\n",
    "[word for word in words if is_palindrome(word)]"
   ]
  },
  {
   "cell_type": "code",
   "execution_count": 34,
   "metadata": {},
   "outputs": [
    {
     "data": {
      "text/plain": [
       "[0, 1, 4, 9, 16, 25, 36, 49, 64, 81]"
      ]
     },
     "execution_count": 34,
     "metadata": {},
     "output_type": "execute_result"
    }
   ],
   "source": [
    "#list comprehension\n",
    "[n**2 for n in range(10)]"
   ]
  },
  {
   "cell_type": "code",
   "execution_count": 42,
   "metadata": {},
   "outputs": [
    {
     "data": {
      "text/plain": [
       "<generator object <genexpr> at 0x000001643E2D4B88>"
      ]
     },
     "execution_count": 42,
     "metadata": {},
     "output_type": "execute_result"
    }
   ],
   "source": [
    "#generator expression\n",
    "(n**2 for n in range(10))\n"
   ]
  },
  {
   "cell_type": "code",
   "execution_count": 68,
   "metadata": {},
   "outputs": [
    {
     "name": "stdout",
     "output_type": "stream",
     "text": [
      "[0, 1, 4, 9, 16, 25, 36, 49, 64, 81]\n"
     ]
    }
   ],
   "source": [
    "#built-in-list()\n",
    "list=[n**2 for n in range(10)]\n",
    "print(list)"
   ]
  },
  {
   "cell_type": "code",
   "execution_count": 67,
   "metadata": {},
   "outputs": [],
   "source": [
    "class student:\n",
    "    def _init_(self, name, gpa, major):\n",
    "        self.name= name\n",
    "        self.gpa = gpa\n",
    "        self.major = major\n",
    "        {student.name: student.gpa for student in students}\n",
    "        {'jim smith':3.6, 'ryan spencer' : 3.1, 'Penny gilmore' : 3.9}\n",
    "    def invert_name(name):\n",
    "        first, last = name.split(\", \") + first\n",
    "        {invert_name(student.name): student_gpa\n",
    "         for student in students\n",
    "         if students.gpa > 3.5}\n",
    "        \n",
    "        "
   ]
  },
  {
   "cell_type": "code",
   "execution_count": 62,
   "metadata": {},
   "outputs": [
    {
     "data": {
      "text/plain": [
       "1.0"
      ]
     },
     "execution_count": 62,
     "metadata": {},
     "output_type": "execute_result"
    }
   ],
   "source": [
    "#advanced functions\n",
    "def foo( a, b, x=3, y=2):\n",
    "    return(a+b)/(x+y)\n",
    "foo(5, 0)\n",
    "\n"
   ]
  },
  {
   "cell_type": "code",
   "execution_count": 66,
   "metadata": {},
   "outputs": [],
   "source": []
  },
  {
   "cell_type": "code",
   "execution_count": null,
   "metadata": {},
   "outputs": [],
   "source": []
  },
  {
   "cell_type": "code",
   "execution_count": null,
   "metadata": {},
   "outputs": [],
   "source": []
  }
 ],
 "metadata": {
  "kernelspec": {
   "display_name": "Python 3",
   "language": "python",
   "name": "python3"
  },
  "language_info": {
   "codemirror_mode": {
    "name": "ipython",
    "version": 3
   },
   "file_extension": ".py",
   "mimetype": "text/x-python",
   "name": "python",
   "nbconvert_exporter": "python",
   "pygments_lexer": "ipython3",
   "version": "3.7.0"
  }
 },
 "nbformat": 4,
 "nbformat_minor": 2
}
